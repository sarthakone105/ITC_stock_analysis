{
 "cells": [
  {
   "cell_type": "code",
   "execution_count": 1,
   "metadata": {},
   "outputs": [],
   "source": [
    "import yfinance as yf\n",
    "import numpy as np\n",
    "import pandas as pd\n",
    "import matplotlib.pyplot as plt\n",
    "plt.style.use(\"ggplot\")"
   ]
  },
  {
   "cell_type": "code",
   "execution_count": 2,
   "metadata": {},
   "outputs": [],
   "source": [
    "company = \"ITC.NS\"\n",
    "start  = \"2023-01-01\"\n",
    "end = \"2023-09-12\""
   ]
  },
  {
   "cell_type": "code",
   "execution_count": 15,
   "metadata": {},
   "outputs": [
    {
     "name": "stdout",
     "output_type": "stream",
     "text": [
      "[*********************100%%**********************]  1 of 1 completed\n"
     ]
    }
   ],
   "source": [
    "data = yf.download(company, start, end)\n",
    "df = data.copy()\n",
    "df = df.reset_index()\n",
    "df[\"Day\"] = df[\"Date\"].dt.day_name()"
   ]
  },
  {
   "cell_type": "code",
   "execution_count": 16,
   "metadata": {},
   "outputs": [
    {
     "data": {
      "text/html": [
       "<div>\n",
       "<style scoped>\n",
       "    .dataframe tbody tr th:only-of-type {\n",
       "        vertical-align: middle;\n",
       "    }\n",
       "\n",
       "    .dataframe tbody tr th {\n",
       "        vertical-align: top;\n",
       "    }\n",
       "\n",
       "    .dataframe thead th {\n",
       "        text-align: right;\n",
       "    }\n",
       "</style>\n",
       "<table border=\"1\" class=\"dataframe\">\n",
       "  <thead>\n",
       "    <tr style=\"text-align: right;\">\n",
       "      <th></th>\n",
       "      <th>Date</th>\n",
       "      <th>Day</th>\n",
       "      <th>Open</th>\n",
       "      <th>High</th>\n",
       "      <th>Low</th>\n",
       "      <th>Close</th>\n",
       "      <th>Adj Close</th>\n",
       "      <th>Volume</th>\n",
       "    </tr>\n",
       "  </thead>\n",
       "  <tbody>\n",
       "    <tr>\n",
       "      <th>0</th>\n",
       "      <td>2023-01-02</td>\n",
       "      <td>Monday</td>\n",
       "      <td>330.899994</td>\n",
       "      <td>334.000000</td>\n",
       "      <td>329.649994</td>\n",
       "      <td>332.850006</td>\n",
       "      <td>325.675659</td>\n",
       "      <td>5951893</td>\n",
       "    </tr>\n",
       "    <tr>\n",
       "      <th>1</th>\n",
       "      <td>2023-01-03</td>\n",
       "      <td>Tuesday</td>\n",
       "      <td>331.500000</td>\n",
       "      <td>333.350006</td>\n",
       "      <td>330.250000</td>\n",
       "      <td>331.100006</td>\n",
       "      <td>323.963409</td>\n",
       "      <td>5997051</td>\n",
       "    </tr>\n",
       "    <tr>\n",
       "      <th>2</th>\n",
       "      <td>2023-01-04</td>\n",
       "      <td>Wednesday</td>\n",
       "      <td>331.850006</td>\n",
       "      <td>332.500000</td>\n",
       "      <td>326.000000</td>\n",
       "      <td>327.000000</td>\n",
       "      <td>319.951752</td>\n",
       "      <td>6689769</td>\n",
       "    </tr>\n",
       "    <tr>\n",
       "      <th>3</th>\n",
       "      <td>2023-01-05</td>\n",
       "      <td>Thursday</td>\n",
       "      <td>328.649994</td>\n",
       "      <td>333.899994</td>\n",
       "      <td>328.200012</td>\n",
       "      <td>333.450012</td>\n",
       "      <td>326.262756</td>\n",
       "      <td>8171437</td>\n",
       "    </tr>\n",
       "    <tr>\n",
       "      <th>4</th>\n",
       "      <td>2023-01-06</td>\n",
       "      <td>Friday</td>\n",
       "      <td>334.700012</td>\n",
       "      <td>337.549988</td>\n",
       "      <td>333.100006</td>\n",
       "      <td>335.049988</td>\n",
       "      <td>327.828247</td>\n",
       "      <td>8284135</td>\n",
       "    </tr>\n",
       "  </tbody>\n",
       "</table>\n",
       "</div>"
      ],
      "text/plain": [
       "        Date        Day        Open        High         Low       Close  \\\n",
       "0 2023-01-02     Monday  330.899994  334.000000  329.649994  332.850006   \n",
       "1 2023-01-03    Tuesday  331.500000  333.350006  330.250000  331.100006   \n",
       "2 2023-01-04  Wednesday  331.850006  332.500000  326.000000  327.000000   \n",
       "3 2023-01-05   Thursday  328.649994  333.899994  328.200012  333.450012   \n",
       "4 2023-01-06     Friday  334.700012  337.549988  333.100006  335.049988   \n",
       "\n",
       "    Adj Close   Volume  \n",
       "0  325.675659  5951893  \n",
       "1  323.963409  5997051  \n",
       "2  319.951752  6689769  \n",
       "3  326.262756  8171437  \n",
       "4  327.828247  8284135  "
      ]
     },
     "execution_count": 16,
     "metadata": {},
     "output_type": "execute_result"
    }
   ],
   "source": [
    "column_to_move = df.pop(\"Day\")\n",
    "df.insert(1, \"Day\",column_to_move)\n",
    "df.head(5)"
   ]
  },
  {
   "cell_type": "code",
   "execution_count": 4,
   "metadata": {},
   "outputs": [],
   "source": [
    "df_filtered = df[:19]"
   ]
  },
  {
   "cell_type": "code",
   "execution_count": 5,
   "metadata": {},
   "outputs": [
    {
     "data": {
      "text/html": [
       "<div>\n",
       "<style scoped>\n",
       "    .dataframe tbody tr th:only-of-type {\n",
       "        vertical-align: middle;\n",
       "    }\n",
       "\n",
       "    .dataframe tbody tr th {\n",
       "        vertical-align: top;\n",
       "    }\n",
       "\n",
       "    .dataframe thead th {\n",
       "        text-align: right;\n",
       "    }\n",
       "</style>\n",
       "<table border=\"1\" class=\"dataframe\">\n",
       "  <thead>\n",
       "    <tr style=\"text-align: right;\">\n",
       "      <th></th>\n",
       "      <th>Date</th>\n",
       "      <th>Open</th>\n",
       "      <th>High</th>\n",
       "      <th>Low</th>\n",
       "      <th>Close</th>\n",
       "      <th>Adj Close</th>\n",
       "      <th>Volume</th>\n",
       "    </tr>\n",
       "  </thead>\n",
       "  <tbody>\n",
       "    <tr>\n",
       "      <th>0</th>\n",
       "      <td>2023-01-02</td>\n",
       "      <td>330.899994</td>\n",
       "      <td>334.000000</td>\n",
       "      <td>329.649994</td>\n",
       "      <td>332.850006</td>\n",
       "      <td>325.675659</td>\n",
       "      <td>5951893</td>\n",
       "    </tr>\n",
       "    <tr>\n",
       "      <th>1</th>\n",
       "      <td>2023-01-03</td>\n",
       "      <td>331.500000</td>\n",
       "      <td>333.350006</td>\n",
       "      <td>330.250000</td>\n",
       "      <td>331.100006</td>\n",
       "      <td>323.963409</td>\n",
       "      <td>5997051</td>\n",
       "    </tr>\n",
       "    <tr>\n",
       "      <th>2</th>\n",
       "      <td>2023-01-04</td>\n",
       "      <td>331.850006</td>\n",
       "      <td>332.500000</td>\n",
       "      <td>326.000000</td>\n",
       "      <td>327.000000</td>\n",
       "      <td>319.951752</td>\n",
       "      <td>6689769</td>\n",
       "    </tr>\n",
       "    <tr>\n",
       "      <th>3</th>\n",
       "      <td>2023-01-05</td>\n",
       "      <td>328.649994</td>\n",
       "      <td>333.899994</td>\n",
       "      <td>328.200012</td>\n",
       "      <td>333.450012</td>\n",
       "      <td>326.262756</td>\n",
       "      <td>8171437</td>\n",
       "    </tr>\n",
       "    <tr>\n",
       "      <th>4</th>\n",
       "      <td>2023-01-06</td>\n",
       "      <td>334.700012</td>\n",
       "      <td>337.549988</td>\n",
       "      <td>333.100006</td>\n",
       "      <td>335.049988</td>\n",
       "      <td>327.828247</td>\n",
       "      <td>8284135</td>\n",
       "    </tr>\n",
       "  </tbody>\n",
       "</table>\n",
       "</div>"
      ],
      "text/plain": [
       "        Date        Open        High         Low       Close   Adj Close  \\\n",
       "0 2023-01-02  330.899994  334.000000  329.649994  332.850006  325.675659   \n",
       "1 2023-01-03  331.500000  333.350006  330.250000  331.100006  323.963409   \n",
       "2 2023-01-04  331.850006  332.500000  326.000000  327.000000  319.951752   \n",
       "3 2023-01-05  328.649994  333.899994  328.200012  333.450012  326.262756   \n",
       "4 2023-01-06  334.700012  337.549988  333.100006  335.049988  327.828247   \n",
       "\n",
       "    Volume  \n",
       "0  5951893  \n",
       "1  5997051  \n",
       "2  6689769  \n",
       "3  8171437  \n",
       "4  8284135  "
      ]
     },
     "execution_count": 5,
     "metadata": {},
     "output_type": "execute_result"
    }
   ],
   "source": [
    "df_filtered.head(5)"
   ]
  },
  {
   "cell_type": "code",
   "execution_count": 53,
   "metadata": {},
   "outputs": [
    {
     "name": "stderr",
     "output_type": "stream",
     "text": [
      "/tmp/ipykernel_19310/1194890411.py:1: UserWarning: Boolean Series key will be reindexed to match DataFrame index.\n",
      "  green_df = df_filtered[df.Close > df.Open].copy()\n",
      "/tmp/ipykernel_19310/1194890411.py:2: UserWarning: Boolean Series key will be reindexed to match DataFrame index.\n",
      "  red_df = df_filtered[df.Close < df.Open].copy()\n"
     ]
    }
   ],
   "source": [
    "green_df = df_filtered[df.Close > df.Open].copy()\n",
    "red_df = df_filtered[df.Close < df.Open].copy()\n",
    "green_df[\"Height\"] = green_df[\"Close\"] - green_df[\"Open\"]\n",
    "red_df[\"Height\"] = red_df[\"Open\"] - red_df[\"Close\"]"
   ]
  },
  {
   "cell_type": "code",
   "execution_count": null,
   "metadata": {},
   "outputs": [],
   "source": [
    "fig = plt.figure(figsize=(18,8))\n",
    "plt.vlines(x=red_df[\"Date\"], ymin=red_df[\"Low\"], ymax=red_df[\"High\"], colors=\"red\")\n",
    "plt.vlines(x=green_df[\"Date\"], ymin=green_df[\"Low\"], ymax=green_df[\"High\"], colors=\"green\")\n",
    "plt.bar(x=green_df[\"Date\"], height=green_df[\"Height\"], bottom=green_df[\"Open\"], color=\"green\")\n",
    "plt.bar(x=red_df[\"Date\"], height=red_df[\"Height\"], bottom=red_df[\"Close\"], color=\"red\")"
   ]
  },
  {
   "cell_type": "code",
   "execution_count": 37,
   "metadata": {},
   "outputs": [],
   "source": [
    "test = df.copy()"
   ]
  },
  {
   "cell_type": "code",
   "execution_count": null,
   "metadata": {},
   "outputs": [],
   "source": []
  }
 ],
 "metadata": {
  "kernelspec": {
   "display_name": "Python 3",
   "language": "python",
   "name": "python3"
  },
  "language_info": {
   "codemirror_mode": {
    "name": "ipython",
    "version": 3
   },
   "file_extension": ".py",
   "mimetype": "text/x-python",
   "name": "python",
   "nbconvert_exporter": "python",
   "pygments_lexer": "ipython3",
   "version": "3.10.12"
  },
  "orig_nbformat": 4
 },
 "nbformat": 4,
 "nbformat_minor": 2
}
