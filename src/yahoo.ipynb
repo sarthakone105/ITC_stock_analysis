{
 "cells": [
  {
   "cell_type": "code",
   "execution_count": 29,
   "metadata": {},
   "outputs": [],
   "source": [
    "import yfinance as yf\n",
    "import numpy as np\n",
    "import pandas as pd\n",
    "import matplotlib.pyplot as plt\n",
    "plt.style.use(\"ggplot\")"
   ]
  },
  {
   "cell_type": "code",
   "execution_count": 31,
   "metadata": {},
   "outputs": [],
   "source": [
    "company = \"ITC.NS\"\n",
    "start  = \"2023-01-01\"\n",
    "end = \"2023-09-12\""
   ]
  },
  {
   "cell_type": "code",
   "execution_count": 37,
   "metadata": {},
   "outputs": [
    {
     "name": "stdout",
     "output_type": "stream",
     "text": [
      "[*********************100%%**********************]  1 of 1 completed\n"
     ]
    }
   ],
   "source": [
    "data = yf.download(company, start, end)\n",
    "df = data.copy()"
   ]
  },
  {
   "cell_type": "code",
   "execution_count": 21,
   "metadata": {},
   "outputs": [],
   "source": [
    "df = df.reset_index()\n",
    "df[\"Date\"] = pd.to_datetime(df[\"Date\"])\n",
    "df = df.loc[df[\"Date\"] > pd.to_datetime(\"2023-07-01\")]dddd"
   ]
  },
  {
   "cell_type": "code",
   "execution_count": 22,
   "metadata": {},
   "outputs": [],
   "source": [
    "df = df.rename(columns={\"Open\":\"open\", \"Close\":\"close\", \"High\":\"high\", \"Low\":\"low\"})"
   ]
  },
  {
   "cell_type": "code",
   "execution_count": 23,
   "metadata": {},
   "outputs": [],
   "source": [
    "up = df[df.close >= df.open]\n",
    "down = df[df.close < df.open]"
   ]
  },
  {
   "cell_type": "code",
   "execution_count": 24,
   "metadata": {},
   "outputs": [],
   "source": [
    "col1 = 'blue'\n",
    "col2 = 'green'\n",
    "width = .3\n",
    "width2 = .03"
   ]
  },
  {
   "cell_type": "code",
   "execution_count": null,
   "metadata": {},
   "outputs": [],
   "source": [
    "plt.bar(up.index, up.close-up.open, width, bottom=up.open, color=col1)\n",
    "plt.bar(up.index, up.high-up.close, width2, bottom=up.close, color=col1)\n",
    "plt.bar(up.index, up.low-up.open, width2, bottom=up.open, color=col1)\n",
    "plt.bar(down.index, down.close-down.open, width, bottom=down.open, color=col2)\n",
    "plt.bar(down.index, down.high-down.open, width2, bottom=down.open, color=col2)\n",
    "plt.bar(down.index, down.low-down.close, width2, bottom=down.close, color=col2)\n",
    "plt.xticks(rotation=30, ha='right')\n",
    "plt.show()"
   ]
  },
  {
   "cell_type": "code",
   "execution_count": null,
   "metadata": {},
   "outputs": [],
   "source": []
  }
 ],
 "metadata": {
  "kernelspec": {
   "display_name": "Python 3",
   "language": "python",
   "name": "python3"
  },
  "language_info": {
   "codemirror_mode": {
    "name": "ipython",
    "version": 3
   },
   "file_extension": ".py",
   "mimetype": "text/x-python",
   "name": "python",
   "nbconvert_exporter": "python",
   "pygments_lexer": "ipython3",
   "version": "3.10.12"
  },
  "orig_nbformat": 4
 },
 "nbformat": 4,
 "nbformat_minor": 2
}
